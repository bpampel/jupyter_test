{
 "cells": [
  {
   "cell_type": "code",
   "execution_count": null,
   "id": "193f7f0b",
   "metadata": {},
   "outputs": [],
   "source": [
    "import numpy\n",
    "\n",
    "# Example of a diagonlization of a matrix to \n",
    "# obtain the eigenvalues and eigenvectors \n",
    "# using python and numpy.\n",
    "\n",
    "\n",
    "# The is the matrix from Example 9E.1 \n",
    "# in Atkins' for butadiene\n",
    "\n",
    "# Setup the matrix to be diagonlized\n",
    "# the matrix is set up row by row\n",
    "B=numpy.array(\n",
    "    [\n",
    "    [0,  1,  0,  0],\n",
    "    [1,  0,  1,  0],\n",
    "    [0,  1,  0,  1],\n",
    "    [0,  0,  1,  0]\n",
    "    ]\n",
    "    )\n",
    "    \n",
    "print(\"Matrix to be diagonlized:\")    \n",
    "print(B)\n",
    "print(\"\")    \n",
    "\n",
    "# Obtain the eigenvalues and eigenvectors using the \n",
    "# https://numpy.org/doc/stable/reference/generated/numpy.linalg.eig.html\n",
    "# function. Gives out the eigenvalues and eigenvectors in arrays. \n",
    "# eigenvectors is the matrix that diagonlized the B mmatrix\n",
    "# eigenvector[:,i] is the eigenvector corresponding to the eigenvalue in eigenvalues[i]\n",
    "[eigenvalues,eigenvectors]=numpy.linalg.eig(B)\n",
    "\n",
    "print(\"Eigenvalues:\")\n",
    "for e in eigenvalues:\n",
    "    print(\"  {:6.4f}\".format(e))\n",
    "print(\"\")\n",
    "\n",
    "print(\"Eigenvector matrix:\")\n",
    "print(eigenvectors)\n",
    "print(\"\")\n",
    "\n",
    "print(\"Eigenvectors\")\n",
    "print(\"\")\n",
    "for i in range(eigenvalues.size):\n",
    "    print(\"Eigenvector corresponding to eigenvalue {:6.4f}\".format(eigenvalues[i]))\n",
    "    print(eigenvectors[:,i])\n",
    "    print(\"\")\n",
    "    \n",
    "print(\"Note that the eigenvalues and eigenvectors are in a different order as compared to the example in the book\")\n",
    "print(\"\")"
   ]
  }
 ],
 "metadata": {
  "kernelspec": {
   "display_name": "Python 3 (ipykernel)",
   "language": "python",
   "name": "python3"
  },
  "language_info": {
   "codemirror_mode": {
    "name": "ipython",
    "version": 3
   },
   "file_extension": ".py",
   "mimetype": "text/x-python",
   "name": "python",
   "nbconvert_exporter": "python",
   "pygments_lexer": "ipython3",
   "version": "3.10.4"
  }
 },
 "nbformat": 4,
 "nbformat_minor": 5
}
